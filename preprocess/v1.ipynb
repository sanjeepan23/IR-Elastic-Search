{
 "cells": [
  {
   "cell_type": "code",
   "execution_count": null,
   "metadata": {},
   "outputs": [],
   "source": [
    "import pandas as pd\n",
    "import numpy as np\n",
    "\n",
    "import nltk\n",
    "import string\n",
    "import re"
   ]
  },
  {
   "cell_type": "code",
   "execution_count": null,
   "metadata": {},
   "outputs": [],
   "source": [
    "df = pd.read_csv(\"../data/180565J_IR_Corpus_v3.csv\")\n",
    "df[\"year\"] = df[\"year\"].apply(int)\n",
    "df[\"year\"] = df[\"year\"].apply(str)"
   ]
  },
  {
   "cell_type": "code",
   "execution_count": null,
   "metadata": {},
   "outputs": [],
   "source": [
    "translator = str.maketrans('', '', string.punctuation)\n",
    "def preprocess_new_line(text):\n",
    "    text = \"\".join(text.splitlines())\n",
    "    text =  text.translate(translator)\n",
    "    return  \" \".join(text.split())"
   ]
  },
  {
   "cell_type": "code",
   "execution_count": null,
   "metadata": {},
   "outputs": [],
   "source": [
    "cols = ['movie', 'song_name', 'lyricist', 'year', 'music_director',\n",
    "       'lyrics_tamil', 'm1', 'm1_meaning', 'm1_tag', 'm1_type']\n",
    "for col in cols:\n",
    "    df[col] = df[col].apply(preprocess_new_line)"
   ]
  },
  {
   "cell_type": "code",
   "execution_count": null,
   "metadata": {},
   "outputs": [],
   "source": [
    "json = {\n",
    "    \"version\": \"v3\",\n",
    "    \"data\" : []\n",
    "}\n",
    "for idx,row in df.iterrows():\n",
    "    json[\"data\"].append({\n",
    "        \"திரைப்படம்\" : row[\"movie\"],\n",
    "        \"பாடலாசிரியர்\" : row[\"lyricist\"],\n",
    "        \"இசையமைப்பாளர்\" : row[\"music_director\"],\n",
    "        \"பாடல்\" : row[\"song_name\"],\n",
    "        \"வருடம்\" : row[\"year\"],\n",
    "        \"பாடல்வரிகள்\" : row[\"lyrics_tamil\"],\n",
    "        \"உருவகம்\" : row[\"m1\"],\n",
    "        \"விளக்கம்\": row[\"m1_meaning\"],\n",
    "        \"உருவக அணி\" : row[\"m1_type\"],\n",
    "        \"குறிச்சொல்\": row[\"m1_tag\"],\n",
    "    })"
   ]
  }
 ],
 "metadata": {
  "kernelspec": {
   "display_name": "base",
   "language": "python",
   "name": "python3"
  },
  "language_info": {
   "codemirror_mode": {
    "name": "ipython",
    "version": 3
   },
   "file_extension": ".py",
   "mimetype": "text/x-python",
   "name": "python",
   "nbconvert_exporter": "python",
   "pygments_lexer": "ipython3",
   "version": "3.9.12"
  },
  "orig_nbformat": 4,
  "vscode": {
   "interpreter": {
    "hash": "3d597f4c481aa0f25dceb95d2a0067e73c0966dcbd003d741d821a7208527ecf"
   }
  }
 },
 "nbformat": 4,
 "nbformat_minor": 2
}
