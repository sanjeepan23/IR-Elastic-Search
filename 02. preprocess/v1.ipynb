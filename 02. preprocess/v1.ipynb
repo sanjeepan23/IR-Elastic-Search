{
 "cells": [
  {
   "cell_type": "code",
   "execution_count": 1,
   "metadata": {},
   "outputs": [],
   "source": [
    "import pandas as pd\n",
    "import numpy as np\n",
    "\n",
    "import nltk\n",
    "import string\n",
    "import re\n",
    "import json, requests"
   ]
  },
  {
   "cell_type": "code",
   "execution_count": null,
   "metadata": {},
   "outputs": [],
   "source": [
    "df = pd.read_csv(\"../xtra/180725C_IR.csv\")\n",
    "df[\"year\"] = df[\"year\"].apply(int)\n",
    "df[\"year\"] = df[\"year\"].apply(str)"
   ]
  },
  {
   "cell_type": "code",
   "execution_count": null,
   "metadata": {},
   "outputs": [],
   "source": [
    "translator = str.maketrans('', '', string.punctuation)\n",
    "def preprocess_new_line(text):\n",
    "    text = \"\".join(text.splitlines())\n",
    "    text =  text.translate(translator)\n",
    "    return  \" \".join(text.split())"
   ]
  },
  {
   "cell_type": "code",
   "execution_count": null,
   "metadata": {},
   "outputs": [],
   "source": [
    "cols = ['lyricist', 'movie', 'song_name', 'year',\n",
    "       'lyrics_tamil', 'music_director','lines', 'meanings', 'tags',\n",
    "       'feels']\n",
    "# for col in cols:\n",
    "#     df[col] = df[col].apply(preprocess_new_line)\n",
    "df[\"lyrics_tamil\"] = df[\"lyrics_tamil\"].apply(preprocess_new_line)"
   ]
  },
  {
   "cell_type": "code",
   "execution_count": null,
   "metadata": {},
   "outputs": [],
   "source": [
    "json_data = {\n",
    "    \"version\": \"v3\",\n",
    "    \"data\" : []\n",
    "}\n",
    "for idx,row in df.iterrows():\n",
    "    json_data[\"data\"].append({\n",
    "        \"திரைப்படம்\" : row[\"movie\"],\n",
    "        \"பாடலாசிரியர்\" : row[\"lyricist\"],\n",
    "        \"இசையமைப்பாளர்\" : row[\"music_director\"],\n",
    "        \"பாடல்\" : row[\"song_name\"],\n",
    "        \"வருடம்\" : row[\"year\"],\n",
    "        \"பாடல்வரிகள்\" : row[\"lyrics_tamil\"],\n",
    "        \"உருவகம்\" : row[\"lines\"],\n",
    "        \"விளக்கம்\": row[\"meanings\"],\n",
    "        \"உணர்வு\" : row[\"feels\"],\n",
    "        \"குறிச்சொல்\": row[\"tags\"],\n",
    "    })"
   ]
  },
  {
   "cell_type": "code",
   "execution_count": null,
   "metadata": {},
   "outputs": [],
   "source": [
    "with open(\"../data/preprocessed_v1_725c.json\", 'w', encoding='utf-8-sig') as fp:\n",
    "    json.dump(json_data, fp, ensure_ascii=False)"
   ]
  },
  {
   "cell_type": "code",
   "execution_count": null,
   "metadata": {},
   "outputs": [],
   "source": [
    "json_data"
   ]
  },
  {
   "cell_type": "code",
   "execution_count": 2,
   "metadata": {},
   "outputs": [],
   "source": [
    "def agg_multi_match_and_sort_q(query, fields, operator=\"or\", sort_num=10):\n",
    "    q = {\n",
    "        \"size\": sort_num,\n",
    "        # \"sort\": [\n",
    "        #     {\"year\": {\"order\": \"desc\"}},\n",
    "        # ],\n",
    "        \"query\": {\n",
    "            \"multi_match\": {\n",
    "                \"query\": query,\n",
    "                \"fields\": fields,\n",
    "                \"operator\": operator,\n",
    "                \"type\": \"best_fields\",\n",
    "            }\n",
    "        },\n",
    "        \"aggs\": {\n",
    "            \"Movie Filter\": {\"terms\": {\"field\": \"movie.keyword\", \"size\": 10}},\n",
    "            \"Lyricist Filter\": {\"terms\": {\"field\": \"lyricist.keyword\", \"size\": 10}},\n",
    "            \"Music_director Filter\": {\n",
    "                \"terms\": {\"field\": \"music_director.keyword\", \"size\": 10}\n",
    "            },\n",
    "            \"Song Filter\": {\"terms\": {\"field\": \"song.keyword\", \"size\": 10}},\n",
    "        },\n",
    "    }\n",
    "    q = json.dumps(q)\n",
    "    return q"
   ]
  },
  {
   "cell_type": "code",
   "execution_count": 5,
   "metadata": {},
   "outputs": [],
   "source": [
    "q_code = agg_multi_match_and_sort_q(\n",
    "    \"அன்பே\",\n",
    "    [\"movie\", \"song\"]\n",
    ")\n",
    "response = requests.post(\n",
    "    \"http://localhost:9200/arrtamil2/_search\",\n",
    "    json=q_code,\n",
    ")\n",
    "json_data = response.json()\n",
    "# hits = json_data[\"hits\"][\"hits\"]"
   ]
  },
  {
   "cell_type": "code",
   "execution_count": 6,
   "metadata": {},
   "outputs": [
    {
     "data": {
      "text/plain": [
       "{'error': {'root_cause': [{'type': 'parsing_exception',\n",
       "    'reason': 'Expected [START_OBJECT] but found [VALUE_STRING]',\n",
       "    'line': 1,\n",
       "    'col': 1}],\n",
       "  'type': 'parsing_exception',\n",
       "  'reason': 'Expected [START_OBJECT] but found [VALUE_STRING]',\n",
       "  'line': 1,\n",
       "  'col': 1},\n",
       " 'status': 400}"
      ]
     },
     "execution_count": 6,
     "metadata": {},
     "output_type": "execute_result"
    }
   ],
   "source": [
    "json_data"
   ]
  },
  {
   "cell_type": "code",
   "execution_count": null,
   "metadata": {},
   "outputs": [],
   "source": []
  }
 ],
 "metadata": {
  "kernelspec": {
   "display_name": "base",
   "language": "python",
   "name": "python3"
  },
  "language_info": {
   "codemirror_mode": {
    "name": "ipython",
    "version": 3
   },
   "file_extension": ".py",
   "mimetype": "text/x-python",
   "name": "python",
   "nbconvert_exporter": "python",
   "pygments_lexer": "ipython3",
   "version": "3.9.12"
  },
  "orig_nbformat": 4,
  "vscode": {
   "interpreter": {
    "hash": "3d597f4c481aa0f25dceb95d2a0067e73c0966dcbd003d741d821a7208527ecf"
   }
  }
 },
 "nbformat": 4,
 "nbformat_minor": 2
}
